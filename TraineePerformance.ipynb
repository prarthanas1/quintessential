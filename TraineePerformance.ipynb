{
 "cells": [
  {
   "cell_type": "code",
   "execution_count": 1,
   "metadata": {},
   "outputs": [],
   "source": [
    "import numpy as np\n",
    "import pandas as pd"
   ]
  },
  {
   "cell_type": "code",
   "execution_count": 2,
   "metadata": {},
   "outputs": [
    {
     "data": {
      "text/html": [
       "<div>\n",
       "<style>\n",
       "    .dataframe thead tr:only-child th {\n",
       "        text-align: right;\n",
       "    }\n",
       "\n",
       "    .dataframe thead th {\n",
       "        text-align: left;\n",
       "    }\n",
       "\n",
       "    .dataframe tbody tr th {\n",
       "        vertical-align: top;\n",
       "    }\n",
       "</style>\n",
       "<table border=\"1\" class=\"dataframe\">\n",
       "  <thead>\n",
       "    <tr style=\"text-align: right;\">\n",
       "      <th></th>\n",
       "      <th>id</th>\n",
       "      <th>program_id</th>\n",
       "      <th>program_type</th>\n",
       "      <th>program_duration</th>\n",
       "      <th>test_id</th>\n",
       "      <th>test_type</th>\n",
       "      <th>difficulty_level</th>\n",
       "      <th>trainee_id</th>\n",
       "      <th>gender</th>\n",
       "      <th>education</th>\n",
       "      <th>city_tier</th>\n",
       "      <th>age</th>\n",
       "      <th>total_programs_enrolled</th>\n",
       "      <th>is_handicapped</th>\n",
       "      <th>trainee_engagement_rating</th>\n",
       "      <th>is_pass</th>\n",
       "    </tr>\n",
       "  </thead>\n",
       "  <tbody>\n",
       "    <tr>\n",
       "      <th>0</th>\n",
       "      <td>9389_150</td>\n",
       "      <td>Y_1</td>\n",
       "      <td>Y</td>\n",
       "      <td>136</td>\n",
       "      <td>150</td>\n",
       "      <td>offline</td>\n",
       "      <td>intermediate</td>\n",
       "      <td>9389</td>\n",
       "      <td>M</td>\n",
       "      <td>Matriculation</td>\n",
       "      <td>3</td>\n",
       "      <td>24.0</td>\n",
       "      <td>5</td>\n",
       "      <td>N</td>\n",
       "      <td>1.0</td>\n",
       "      <td>0</td>\n",
       "    </tr>\n",
       "    <tr>\n",
       "      <th>1</th>\n",
       "      <td>16523_44</td>\n",
       "      <td>T_1</td>\n",
       "      <td>T</td>\n",
       "      <td>131</td>\n",
       "      <td>44</td>\n",
       "      <td>offline</td>\n",
       "      <td>easy</td>\n",
       "      <td>16523</td>\n",
       "      <td>F</td>\n",
       "      <td>High School Diploma</td>\n",
       "      <td>4</td>\n",
       "      <td>26.0</td>\n",
       "      <td>2</td>\n",
       "      <td>N</td>\n",
       "      <td>3.0</td>\n",
       "      <td>1</td>\n",
       "    </tr>\n",
       "    <tr>\n",
       "      <th>2</th>\n",
       "      <td>13987_178</td>\n",
       "      <td>Z_2</td>\n",
       "      <td>Z</td>\n",
       "      <td>120</td>\n",
       "      <td>178</td>\n",
       "      <td>online</td>\n",
       "      <td>easy</td>\n",
       "      <td>13987</td>\n",
       "      <td>M</td>\n",
       "      <td>Matriculation</td>\n",
       "      <td>1</td>\n",
       "      <td>40.0</td>\n",
       "      <td>1</td>\n",
       "      <td>N</td>\n",
       "      <td>2.0</td>\n",
       "      <td>1</td>\n",
       "    </tr>\n",
       "    <tr>\n",
       "      <th>3</th>\n",
       "      <td>13158_32</td>\n",
       "      <td>T_2</td>\n",
       "      <td>T</td>\n",
       "      <td>117</td>\n",
       "      <td>32</td>\n",
       "      <td>offline</td>\n",
       "      <td>easy</td>\n",
       "      <td>13158</td>\n",
       "      <td>F</td>\n",
       "      <td>Matriculation</td>\n",
       "      <td>3</td>\n",
       "      <td>NaN</td>\n",
       "      <td>4</td>\n",
       "      <td>N</td>\n",
       "      <td>1.0</td>\n",
       "      <td>1</td>\n",
       "    </tr>\n",
       "    <tr>\n",
       "      <th>4</th>\n",
       "      <td>10591_84</td>\n",
       "      <td>V_3</td>\n",
       "      <td>V</td>\n",
       "      <td>131</td>\n",
       "      <td>84</td>\n",
       "      <td>offline</td>\n",
       "      <td>intermediate</td>\n",
       "      <td>10591</td>\n",
       "      <td>F</td>\n",
       "      <td>High School Diploma</td>\n",
       "      <td>1</td>\n",
       "      <td>42.0</td>\n",
       "      <td>2</td>\n",
       "      <td>N</td>\n",
       "      <td>4.0</td>\n",
       "      <td>1</td>\n",
       "    </tr>\n",
       "  </tbody>\n",
       "</table>\n",
       "</div>"
      ],
      "text/plain": [
       "          id program_id program_type  program_duration  test_id test_type  \\\n",
       "0   9389_150        Y_1            Y               136      150   offline   \n",
       "1   16523_44        T_1            T               131       44   offline   \n",
       "2  13987_178        Z_2            Z               120      178    online   \n",
       "3   13158_32        T_2            T               117       32   offline   \n",
       "4   10591_84        V_3            V               131       84   offline   \n",
       "\n",
       "  difficulty_level  trainee_id gender            education  city_tier   age  \\\n",
       "0     intermediate        9389      M        Matriculation          3  24.0   \n",
       "1             easy       16523      F  High School Diploma          4  26.0   \n",
       "2             easy       13987      M        Matriculation          1  40.0   \n",
       "3             easy       13158      F        Matriculation          3   NaN   \n",
       "4     intermediate       10591      F  High School Diploma          1  42.0   \n",
       "\n",
       "   total_programs_enrolled is_handicapped  trainee_engagement_rating  is_pass  \n",
       "0                        5              N                        1.0        0  \n",
       "1                        2              N                        3.0        1  \n",
       "2                        1              N                        2.0        1  \n",
       "3                        4              N                        1.0        1  \n",
       "4                        2              N                        4.0        1  "
      ]
     },
     "execution_count": 2,
     "metadata": {},
     "output_type": "execute_result"
    }
   ],
   "source": [
    "data=pd.read_csv(r\"C:\\Users\\Prarthana Saikia\\Desktop\\Praxis\\Machine Learning\\ML class\\codes for exam\\datasets\\AnalyticsVidhyachallenge\\train_HK6lq50.csv\")\n",
    "data.head()"
   ]
  },
  {
   "cell_type": "code",
   "execution_count": 3,
   "metadata": {},
   "outputs": [
    {
     "data": {
      "text/plain": [
       "id                            object\n",
       "program_id                    object\n",
       "program_type                  object\n",
       "program_duration               int64\n",
       "test_id                        int64\n",
       "test_type                     object\n",
       "difficulty_level              object\n",
       "trainee_id                     int64\n",
       "gender                        object\n",
       "education                     object\n",
       "city_tier                      int64\n",
       "age                          float64\n",
       "total_programs_enrolled        int64\n",
       "is_handicapped                object\n",
       "trainee_engagement_rating    float64\n",
       "is_pass                        int64\n",
       "dtype: object"
      ]
     },
     "execution_count": 3,
     "metadata": {},
     "output_type": "execute_result"
    }
   ],
   "source": [
    "data.dtypes"
   ]
  },
  {
   "cell_type": "code",
   "execution_count": 4,
   "metadata": {},
   "outputs": [
    {
     "data": {
      "text/plain": [
       "1    50867\n",
       "0    22280\n",
       "Name: is_pass, dtype: int64"
      ]
     },
     "execution_count": 4,
     "metadata": {},
     "output_type": "execute_result"
    }
   ],
   "source": [
    "data['is_pass'].value_counts()"
   ]
  },
  {
   "cell_type": "code",
   "execution_count": 5,
   "metadata": {},
   "outputs": [],
   "source": [
    "#replace missing values in age with mean and trainee engagement rating with mode(rating is 1.0)\n",
    "r=data['age'].mean(axis=0)\n",
    "data['age'].fillna(r,axis=0,inplace=True)\n",
    "m=data['trainee_engagement_rating'].mode()\n",
    "data['trainee_engagement_rating'].fillna(1.0,axis=0,inplace=True)\n"
   ]
  },
  {
   "cell_type": "code",
   "execution_count": 6,
   "metadata": {},
   "outputs": [],
   "source": [
    "data_cat=data.iloc[:,[2,4,5,6,7,8,9,10,12,13,14]]\n",
    "y=data.iloc[:,-1]"
   ]
  },
  {
   "cell_type": "code",
   "execution_count": 7,
   "metadata": {},
   "outputs": [
    {
     "data": {
      "text/html": [
       "<div>\n",
       "<style>\n",
       "    .dataframe thead tr:only-child th {\n",
       "        text-align: right;\n",
       "    }\n",
       "\n",
       "    .dataframe thead th {\n",
       "        text-align: left;\n",
       "    }\n",
       "\n",
       "    .dataframe tbody tr th {\n",
       "        vertical-align: top;\n",
       "    }\n",
       "</style>\n",
       "<table border=\"1\" class=\"dataframe\">\n",
       "  <thead>\n",
       "    <tr style=\"text-align: right;\">\n",
       "      <th></th>\n",
       "      <th>program_type</th>\n",
       "      <th>test_id</th>\n",
       "      <th>test_type</th>\n",
       "      <th>difficulty_level</th>\n",
       "      <th>trainee_id</th>\n",
       "      <th>gender</th>\n",
       "      <th>education</th>\n",
       "      <th>city_tier</th>\n",
       "      <th>total_programs_enrolled</th>\n",
       "      <th>is_handicapped</th>\n",
       "      <th>trainee_engagement_rating</th>\n",
       "    </tr>\n",
       "  </thead>\n",
       "  <tbody>\n",
       "    <tr>\n",
       "      <th>0</th>\n",
       "      <td>Y</td>\n",
       "      <td>150</td>\n",
       "      <td>offline</td>\n",
       "      <td>intermediate</td>\n",
       "      <td>9389</td>\n",
       "      <td>M</td>\n",
       "      <td>Matriculation</td>\n",
       "      <td>3</td>\n",
       "      <td>5</td>\n",
       "      <td>N</td>\n",
       "      <td>1.0</td>\n",
       "    </tr>\n",
       "    <tr>\n",
       "      <th>1</th>\n",
       "      <td>T</td>\n",
       "      <td>44</td>\n",
       "      <td>offline</td>\n",
       "      <td>easy</td>\n",
       "      <td>16523</td>\n",
       "      <td>F</td>\n",
       "      <td>High School Diploma</td>\n",
       "      <td>4</td>\n",
       "      <td>2</td>\n",
       "      <td>N</td>\n",
       "      <td>3.0</td>\n",
       "    </tr>\n",
       "    <tr>\n",
       "      <th>2</th>\n",
       "      <td>Z</td>\n",
       "      <td>178</td>\n",
       "      <td>online</td>\n",
       "      <td>easy</td>\n",
       "      <td>13987</td>\n",
       "      <td>M</td>\n",
       "      <td>Matriculation</td>\n",
       "      <td>1</td>\n",
       "      <td>1</td>\n",
       "      <td>N</td>\n",
       "      <td>2.0</td>\n",
       "    </tr>\n",
       "    <tr>\n",
       "      <th>3</th>\n",
       "      <td>T</td>\n",
       "      <td>32</td>\n",
       "      <td>offline</td>\n",
       "      <td>easy</td>\n",
       "      <td>13158</td>\n",
       "      <td>F</td>\n",
       "      <td>Matriculation</td>\n",
       "      <td>3</td>\n",
       "      <td>4</td>\n",
       "      <td>N</td>\n",
       "      <td>1.0</td>\n",
       "    </tr>\n",
       "    <tr>\n",
       "      <th>4</th>\n",
       "      <td>V</td>\n",
       "      <td>84</td>\n",
       "      <td>offline</td>\n",
       "      <td>intermediate</td>\n",
       "      <td>10591</td>\n",
       "      <td>F</td>\n",
       "      <td>High School Diploma</td>\n",
       "      <td>1</td>\n",
       "      <td>2</td>\n",
       "      <td>N</td>\n",
       "      <td>4.0</td>\n",
       "    </tr>\n",
       "  </tbody>\n",
       "</table>\n",
       "</div>"
      ],
      "text/plain": [
       "  program_type  test_id test_type difficulty_level  trainee_id gender  \\\n",
       "0            Y      150   offline     intermediate        9389      M   \n",
       "1            T       44   offline             easy       16523      F   \n",
       "2            Z      178    online             easy       13987      M   \n",
       "3            T       32   offline             easy       13158      F   \n",
       "4            V       84   offline     intermediate       10591      F   \n",
       "\n",
       "             education  city_tier  total_programs_enrolled is_handicapped  \\\n",
       "0        Matriculation          3                        5              N   \n",
       "1  High School Diploma          4                        2              N   \n",
       "2        Matriculation          1                        1              N   \n",
       "3        Matriculation          3                        4              N   \n",
       "4  High School Diploma          1                        2              N   \n",
       "\n",
       "   trainee_engagement_rating  \n",
       "0                        1.0  \n",
       "1                        3.0  \n",
       "2                        2.0  \n",
       "3                        1.0  \n",
       "4                        4.0  "
      ]
     },
     "execution_count": 7,
     "metadata": {},
     "output_type": "execute_result"
    }
   ],
   "source": [
    "data_cat.head()"
   ]
  },
  {
   "cell_type": "code",
   "execution_count": 8,
   "metadata": {},
   "outputs": [],
   "source": [
    "\n",
    "from sklearn.preprocessing import LabelEncoder\n",
    "encode = LabelEncoder()\n",
    "data_cat = data_cat.apply(encode.fit_transform)"
   ]
  },
  {
   "cell_type": "code",
   "execution_count": 9,
   "metadata": {},
   "outputs": [
    {
     "data": {
      "text/html": [
       "<div>\n",
       "<style>\n",
       "    .dataframe thead tr:only-child th {\n",
       "        text-align: right;\n",
       "    }\n",
       "\n",
       "    .dataframe thead th {\n",
       "        text-align: left;\n",
       "    }\n",
       "\n",
       "    .dataframe tbody tr th {\n",
       "        vertical-align: top;\n",
       "    }\n",
       "</style>\n",
       "<table border=\"1\" class=\"dataframe\">\n",
       "  <thead>\n",
       "    <tr style=\"text-align: right;\">\n",
       "      <th></th>\n",
       "      <th>program_type</th>\n",
       "      <th>test_id</th>\n",
       "      <th>test_type</th>\n",
       "      <th>difficulty_level</th>\n",
       "      <th>trainee_id</th>\n",
       "      <th>gender</th>\n",
       "      <th>education</th>\n",
       "      <th>city_tier</th>\n",
       "      <th>total_programs_enrolled</th>\n",
       "      <th>is_handicapped</th>\n",
       "      <th>trainee_engagement_rating</th>\n",
       "    </tr>\n",
       "  </thead>\n",
       "  <tbody>\n",
       "    <tr>\n",
       "      <th>0</th>\n",
       "      <td>5</td>\n",
       "      <td>150</td>\n",
       "      <td>0</td>\n",
       "      <td>2</td>\n",
       "      <td>8688</td>\n",
       "      <td>1</td>\n",
       "      <td>3</td>\n",
       "      <td>2</td>\n",
       "      <td>4</td>\n",
       "      <td>0</td>\n",
       "      <td>0</td>\n",
       "    </tr>\n",
       "    <tr>\n",
       "      <th>1</th>\n",
       "      <td>1</td>\n",
       "      <td>44</td>\n",
       "      <td>0</td>\n",
       "      <td>0</td>\n",
       "      <td>15244</td>\n",
       "      <td>0</td>\n",
       "      <td>1</td>\n",
       "      <td>3</td>\n",
       "      <td>1</td>\n",
       "      <td>0</td>\n",
       "      <td>2</td>\n",
       "    </tr>\n",
       "    <tr>\n",
       "      <th>2</th>\n",
       "      <td>6</td>\n",
       "      <td>178</td>\n",
       "      <td>1</td>\n",
       "      <td>0</td>\n",
       "      <td>12916</td>\n",
       "      <td>1</td>\n",
       "      <td>3</td>\n",
       "      <td>0</td>\n",
       "      <td>0</td>\n",
       "      <td>0</td>\n",
       "      <td>1</td>\n",
       "    </tr>\n",
       "    <tr>\n",
       "      <th>3</th>\n",
       "      <td>1</td>\n",
       "      <td>32</td>\n",
       "      <td>0</td>\n",
       "      <td>0</td>\n",
       "      <td>12165</td>\n",
       "      <td>0</td>\n",
       "      <td>3</td>\n",
       "      <td>2</td>\n",
       "      <td>3</td>\n",
       "      <td>0</td>\n",
       "      <td>0</td>\n",
       "    </tr>\n",
       "    <tr>\n",
       "      <th>4</th>\n",
       "      <td>3</td>\n",
       "      <td>84</td>\n",
       "      <td>0</td>\n",
       "      <td>2</td>\n",
       "      <td>9808</td>\n",
       "      <td>0</td>\n",
       "      <td>1</td>\n",
       "      <td>0</td>\n",
       "      <td>1</td>\n",
       "      <td>0</td>\n",
       "      <td>3</td>\n",
       "    </tr>\n",
       "  </tbody>\n",
       "</table>\n",
       "</div>"
      ],
      "text/plain": [
       "   program_type  test_id  test_type  difficulty_level  trainee_id  gender  \\\n",
       "0             5      150          0                 2        8688       1   \n",
       "1             1       44          0                 0       15244       0   \n",
       "2             6      178          1                 0       12916       1   \n",
       "3             1       32          0                 0       12165       0   \n",
       "4             3       84          0                 2        9808       0   \n",
       "\n",
       "   education  city_tier  total_programs_enrolled  is_handicapped  \\\n",
       "0          3          2                        4               0   \n",
       "1          1          3                        1               0   \n",
       "2          3          0                        0               0   \n",
       "3          3          2                        3               0   \n",
       "4          1          0                        1               0   \n",
       "\n",
       "   trainee_engagement_rating  \n",
       "0                          0  \n",
       "1                          2  \n",
       "2                          1  \n",
       "3                          0  \n",
       "4                          3  "
      ]
     },
     "execution_count": 9,
     "metadata": {},
     "output_type": "execute_result"
    }
   ],
   "source": [
    "data_cat.head()"
   ]
  },
  {
   "cell_type": "code",
   "execution_count": 10,
   "metadata": {},
   "outputs": [
    {
     "data": {
      "text/plain": [
       "array([  4.97489879e+02,   1.17240013e+04,   1.00002382e+03,\n",
       "         1.06625786e+03,   2.87359610e+05,   1.41590397e+01,\n",
       "         3.90529034e+02,   2.83026665e+02,   7.14295695e+01,\n",
       "         9.09831308e+01,   3.59892393e+03])"
      ]
     },
     "execution_count": 10,
     "metadata": {},
     "output_type": "execute_result"
    }
   ],
   "source": [
    "#chi squared for feature selection\n",
    "\n",
    "#performing chi2 test for feature selection \n",
    "from sklearn.feature_selection import SelectKBest\n",
    "from sklearn.feature_selection import chi2\n",
    "sel = SelectKBest(chi2,11)#this number 12 is a rsult after some hit and trials\n",
    "a=sel.fit(data_cat, y)\n",
    "score = (sel.scores_)\n",
    "score"
   ]
  },
  {
   "cell_type": "code",
   "execution_count": 11,
   "metadata": {},
   "outputs": [],
   "source": [
    "data_cat = sel.transform(data_cat)"
   ]
  },
  {
   "cell_type": "code",
   "execution_count": 12,
   "metadata": {},
   "outputs": [
    {
     "data": {
      "text/plain": [
       "(73147, 11)"
      ]
     },
     "execution_count": 12,
     "metadata": {},
     "output_type": "execute_result"
    }
   ],
   "source": [
    "data_cat.shape"
   ]
  },
  {
   "cell_type": "code",
   "execution_count": 13,
   "metadata": {},
   "outputs": [],
   "source": [
    "data_num=data.iloc[:,[3,11]].values"
   ]
  },
  {
   "cell_type": "code",
   "execution_count": 14,
   "metadata": {},
   "outputs": [],
   "source": [
    "X = np.concatenate((data_cat,data_num), axis = 1)"
   ]
  },
  {
   "cell_type": "code",
   "execution_count": 15,
   "metadata": {},
   "outputs": [
    {
     "name": "stderr",
     "output_type": "stream",
     "text": [
      "C:\\Users\\Prarthana Saikia\\Anaconda3\\lib\\site-packages\\sklearn\\cross_validation.py:41: DeprecationWarning: This module was deprecated in version 0.18 in favor of the model_selection module into which all the refactored classes and functions are moved. Also note that the interface of the new CV iterators are different from that of this module. This module will be removed in 0.20.\n",
      "  \"This module will be removed in 0.20.\", DeprecationWarning)\n"
     ]
    },
    {
     "data": {
      "text/plain": [
       "1    40649\n",
       "0    17868\n",
       "Name: is_pass, dtype: int64"
      ]
     },
     "execution_count": 15,
     "metadata": {},
     "output_type": "execute_result"
    }
   ],
   "source": [
    "#Data Preprocessing\n",
    "from sklearn.cross_validation import train_test_split\n",
    "#X and y are arrays\n",
    "X_train,X_test,y_train,y_test=train_test_split(X, y, test_size = 0.2, random_state = 0)\n",
    "y_train.value_counts()"
   ]
  },
  {
   "cell_type": "code",
   "execution_count": 16,
   "metadata": {},
   "outputs": [
    {
     "name": "stdout",
     "output_type": "stream",
     "text": [
      "[40649 40649]\n"
     ]
    }
   ],
   "source": [
    "from imblearn.over_sampling import SMOTE\n",
    "sm = SMOTE(kind = 'regular')\n",
    "x_resampled, y_resampled = sm.fit_sample(X_train, y_train)\n",
    "print (np.bincount(y_resampled))\n",
    "\n"
   ]
  },
  {
   "cell_type": "code",
   "execution_count": 27,
   "metadata": {},
   "outputs": [],
   "source": [
    "from sklearn.ensemble import RandomForestClassifier\n",
    "rf = RandomForestClassifier(n_jobs=-1,max_features= 'sqrt' ,n_estimators=600)"
   ]
  },
  {
   "cell_type": "code",
   "execution_count": 28,
   "metadata": {},
   "outputs": [
    {
     "data": {
      "text/plain": [
       "0.67899784693677823"
      ]
     },
     "execution_count": 28,
     "metadata": {},
     "output_type": "execute_result"
    }
   ],
   "source": [
    "rf.fit(x_resampled, y_resampled)\n",
    "y_pred1 = rf.predict(X_test)\n",
    "from sklearn.metrics import confusion_matrix, roc_curve, roc_auc_score\n",
    "roc_auc_score(y_test,y_pred1)"
   ]
  },
  {
   "cell_type": "code",
   "execution_count": null,
   "metadata": {},
   "outputs": [],
   "source": [
    "import xgboost as xgb\n",
    "from xgboost.sklearn import XGBClassifier\n",
    "gbtree = xgb.XGBClassifier(learning_rate=0.2,n_estimators=140, max_depth=10,min_child_weight=6)\n",
    "#gbtree = xgb.XGBClassifier(subsample=0.8, min_child_weight= 10, max_depth= 4, gamma= 0.5, colsample_bytree= 1.0)\n",
    "gbtree.fit(X_resampled, y_resampled)\n",
    "y_pred5 = gbtree.predict(X_test)\n",
    "roc_auc_score(y_test,y_pred5)"
   ]
  },
  {
   "cell_type": "code",
   "execution_count": 19,
   "metadata": {},
   "outputs": [],
   "source": [
    "from sklearn.ensemble import BaggingClassifier,AdaBoostClassifier,RandomForestClassifier\n",
    "from sklearn.tree import DecisionTreeClassifier     #baseclassifier\n"
   ]
  },
  {
   "cell_type": "code",
   "execution_count": 20,
   "metadata": {},
   "outputs": [],
   "source": [
    "tree_class=DecisionTreeClassifier(max_depth=None)\n"
   ]
  },
  {
   "cell_type": "code",
   "execution_count": 22,
   "metadata": {},
   "outputs": [
    {
     "data": {
      "text/plain": [
       "0.64359421545928852"
      ]
     },
     "execution_count": 22,
     "metadata": {},
     "output_type": "execute_result"
    }
   ],
   "source": [
    "tree_class.fit(x_resampled, y_resampled)\n",
    "y_pred1 = tree_class.predict(X_test)\n",
    "from sklearn.metrics import confusion_matrix, roc_curve, roc_auc_score\n",
    "roc_auc_score(y_test,y_pred1)"
   ]
  },
  {
   "cell_type": "code",
   "execution_count": 29,
   "metadata": {},
   "outputs": [
    {
     "data": {
      "text/plain": [
       "0.68219714130415687"
      ]
     },
     "execution_count": 29,
     "metadata": {},
     "output_type": "execute_result"
    }
   ],
   "source": [
    "bag_tree=BaggingClassifier(base_estimator=tree_class,n_estimators=600,n_jobs=-1)\n",
    "bag_tree.fit(x_resampled, y_resampled)\n",
    "y_pred22 = bag_tree.predict(X_test)\n",
    "from sklearn.metrics import confusion_matrix, roc_curve, roc_auc_score\n",
    "roc_auc_score(y_test,y_pred22)"
   ]
  },
  {
   "cell_type": "code",
   "execution_count": 26,
   "metadata": {},
   "outputs": [
    {
     "name": "stdout",
     "output_type": "stream",
     "text": [
      "{'max_features': 'sqrt', 'n_estimators': 600}\n"
     ]
    }
   ],
   "source": [
    "#parameter tuning using GridSearchCV\n",
    "from sklearn.model_selection import GridSearchCV\n",
    "\n",
    "rfc = RandomForestClassifier(n_jobs=-1,max_features= 'sqrt' ,n_estimators=50)\n",
    "param_grid = { \n",
    "    'n_estimators': [100, 200,300,400,500,600,700],\n",
    "    'max_features': ['auto', 'sqrt', 'log2']\n",
    "}\n",
    "CV_rfc = GridSearchCV(estimator=rfc, param_grid=param_grid, cv= 5)\n",
    "CV_rfc.fit(x_resampled, y_resampled)\n",
    "print (CV_rfc.best_params_)"
   ]
  },
  {
   "cell_type": "code",
   "execution_count": null,
   "metadata": {},
   "outputs": [],
   "source": []
  }
 ],
 "metadata": {
  "kernelspec": {
   "display_name": "Python 3",
   "language": "python",
   "name": "python3"
  },
  "language_info": {
   "codemirror_mode": {
    "name": "ipython",
    "version": 3
   },
   "file_extension": ".py",
   "mimetype": "text/x-python",
   "name": "python",
   "nbconvert_exporter": "python",
   "pygments_lexer": "ipython3",
   "version": "3.6.3"
  }
 },
 "nbformat": 4,
 "nbformat_minor": 2
}
